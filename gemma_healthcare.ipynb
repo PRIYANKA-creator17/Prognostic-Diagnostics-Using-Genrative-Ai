{
  "cells": [
    {
      "cell_type": "code",
      "execution_count": null,
      "id": "7c4c3b5f",
      "metadata": {
        "_cell_guid": "b1076dfc-b9ad-4769-8c92-a6c4dae69d19",
        "_uuid": "8f2839f25d086af736a60e9eeb907d3b93b6e0e5",
        "execution": {
          "iopub.execute_input": "2024-02-24T15:24:56.334814Z",
          "iopub.status.busy": "2024-02-24T15:24:56.334277Z",
          "iopub.status.idle": "2024-02-24T15:25:10.495507Z",
          "shell.execute_reply": "2024-02-24T15:25:10.494452Z"
        },
        "papermill": {
          "duration": 14.171455,
          "end_time": "2024-02-24T15:25:10.497619",
          "exception": false,
          "start_time": "2024-02-24T15:24:56.326164",
          "status": "completed"
        },
        "tags": [],
        "id": "7c4c3b5f",
        "outputId": "e6890f92-4efb-4ea3-859d-eca9e348d996"
      },
      "outputs": [
        {
          "name": "stdout",
          "output_type": "stream",
          "text": [
            "Requirement already satisfied: huggingface_hub in /opt/conda/lib/python3.10/site-packages (0.20.3)\r\n",
            "Requirement already satisfied: filelock in /opt/conda/lib/python3.10/site-packages (from huggingface_hub) (3.13.1)\r\n",
            "Requirement already satisfied: fsspec>=2023.5.0 in /opt/conda/lib/python3.10/site-packages (from huggingface_hub) (2023.12.2)\r\n",
            "Requirement already satisfied: requests in /opt/conda/lib/python3.10/site-packages (from huggingface_hub) (2.31.0)\r\n",
            "Requirement already satisfied: tqdm>=4.42.1 in /opt/conda/lib/python3.10/site-packages (from huggingface_hub) (4.66.1)\r\n",
            "Requirement already satisfied: pyyaml>=5.1 in /opt/conda/lib/python3.10/site-packages (from huggingface_hub) (6.0.1)\r\n",
            "Requirement already satisfied: typing-extensions>=3.7.4.3 in /opt/conda/lib/python3.10/site-packages (from huggingface_hub) (4.9.0)\r\n",
            "Requirement already satisfied: packaging>=20.9 in /opt/conda/lib/python3.10/site-packages (from huggingface_hub) (21.3)\r\n",
            "Requirement already satisfied: pyparsing!=3.0.5,>=2.0.2 in /opt/conda/lib/python3.10/site-packages (from packaging>=20.9->huggingface_hub) (3.1.1)\r\n",
            "Requirement already satisfied: charset-normalizer<4,>=2 in /opt/conda/lib/python3.10/site-packages (from requests->huggingface_hub) (3.3.2)\r\n",
            "Requirement already satisfied: idna<4,>=2.5 in /opt/conda/lib/python3.10/site-packages (from requests->huggingface_hub) (3.6)\r\n",
            "Requirement already satisfied: urllib3<3,>=1.21.1 in /opt/conda/lib/python3.10/site-packages (from requests->huggingface_hub) (1.26.18)\r\n",
            "Requirement already satisfied: certifi>=2017.4.17 in /opt/conda/lib/python3.10/site-packages (from requests->huggingface_hub) (2023.11.17)\r\n",
            "Token will not been saved to git credential helper. Pass `add_to_git_credential=True` if you want to set the git credential as well.\n",
            "Token is valid (permission: read).\n",
            "Your token has been saved to /root/.cache/huggingface/token\n",
            "Login successful\n"
          ]
        }
      ],
      "source": [
        "!pip install --upgrade huggingface_hub\n",
        "from huggingface_hub import login\n",
        "from kaggle_secrets import UserSecretsClient\n",
        "access_token_read = UserSecretsClient().get_secret(\"huggingface\")\n",
        "login(token = access_token_read)"
      ]
    },
    {
      "cell_type": "code",
      "execution_count": null,
      "id": "2ae3543a",
      "metadata": {
        "execution": {
          "iopub.execute_input": "2024-02-24T15:25:10.515789Z",
          "iopub.status.busy": "2024-02-24T15:25:10.515446Z",
          "iopub.status.idle": "2024-02-24T15:25:37.239369Z",
          "shell.execute_reply": "2024-02-24T15:25:37.238417Z"
        },
        "papermill": {
          "duration": 26.735441,
          "end_time": "2024-02-24T15:25:37.241842",
          "exception": false,
          "start_time": "2024-02-24T15:25:10.506401",
          "status": "completed"
        },
        "tags": [],
        "id": "2ae3543a",
        "outputId": "0ea1687a-260c-4c67-a33e-6fa4d3d74982"
      },
      "outputs": [
        {
          "name": "stdout",
          "output_type": "stream",
          "text": [
            "Requirement already satisfied: keras-nlp in /opt/conda/lib/python3.10/site-packages (0.7.0)\r\n",
            "Collecting keras-nlp\r\n",
            "  Downloading keras_nlp-0.8.1-py3-none-any.whl.metadata (7.0 kB)\r\n",
            "Requirement already satisfied: keras-core in /opt/conda/lib/python3.10/site-packages (from keras-nlp) (0.1.7)\r\n",
            "Requirement already satisfied: absl-py in /opt/conda/lib/python3.10/site-packages (from keras-nlp) (1.4.0)\r\n",
            "Requirement already satisfied: numpy in /opt/conda/lib/python3.10/site-packages (from keras-nlp) (1.24.4)\r\n",
            "Requirement already satisfied: packaging in /opt/conda/lib/python3.10/site-packages (from keras-nlp) (21.3)\r\n",
            "Requirement already satisfied: regex in /opt/conda/lib/python3.10/site-packages (from keras-nlp) (2023.12.25)\r\n",
            "Requirement already satisfied: rich in /opt/conda/lib/python3.10/site-packages (from keras-nlp) (13.7.0)\r\n",
            "Requirement already satisfied: dm-tree in /opt/conda/lib/python3.10/site-packages (from keras-nlp) (0.1.8)\r\n",
            "Requirement already satisfied: kagglehub in /opt/conda/lib/python3.10/site-packages (from keras-nlp) (0.1.6)\r\n",
            "Requirement already satisfied: tensorflow-text in /opt/conda/lib/python3.10/site-packages (from keras-nlp) (2.15.0)\r\n",
            "Requirement already satisfied: requests in /opt/conda/lib/python3.10/site-packages (from kagglehub->keras-nlp) (2.31.0)\r\n",
            "Requirement already satisfied: tqdm in /opt/conda/lib/python3.10/site-packages (from kagglehub->keras-nlp) (4.66.1)\r\n",
            "Requirement already satisfied: namex in /opt/conda/lib/python3.10/site-packages (from keras-core->keras-nlp) (0.0.7)\r\n",
            "Requirement already satisfied: h5py in /opt/conda/lib/python3.10/site-packages (from keras-core->keras-nlp) (3.10.0)\r\n",
            "Requirement already satisfied: pyparsing!=3.0.5,>=2.0.2 in /opt/conda/lib/python3.10/site-packages (from packaging->keras-nlp) (3.1.1)\r\n",
            "Requirement already satisfied: markdown-it-py>=2.2.0 in /opt/conda/lib/python3.10/site-packages (from rich->keras-nlp) (3.0.0)\r\n",
            "Requirement already satisfied: pygments<3.0.0,>=2.13.0 in /opt/conda/lib/python3.10/site-packages (from rich->keras-nlp) (2.17.2)\r\n",
            "Requirement already satisfied: tensorflow-hub>=0.13.0 in /opt/conda/lib/python3.10/site-packages (from tensorflow-text->keras-nlp) (0.15.0)\r\n",
            "Requirement already satisfied: tensorflow<2.16,>=2.15.0 in /opt/conda/lib/python3.10/site-packages (from tensorflow-text->keras-nlp) (2.15.0)\r\n",
            "Requirement already satisfied: mdurl~=0.1 in /opt/conda/lib/python3.10/site-packages (from markdown-it-py>=2.2.0->rich->keras-nlp) (0.1.2)\r\n",
            "Requirement already satisfied: astunparse>=1.6.0 in /opt/conda/lib/python3.10/site-packages (from tensorflow<2.16,>=2.15.0->tensorflow-text->keras-nlp) (1.6.3)\r\n",
            "Requirement already satisfied: flatbuffers>=23.5.26 in /opt/conda/lib/python3.10/site-packages (from tensorflow<2.16,>=2.15.0->tensorflow-text->keras-nlp) (23.5.26)\r\n",
            "Requirement already satisfied: gast!=0.5.0,!=0.5.1,!=0.5.2,>=0.2.1 in /opt/conda/lib/python3.10/site-packages (from tensorflow<2.16,>=2.15.0->tensorflow-text->keras-nlp) (0.5.4)\r\n",
            "Requirement already satisfied: google-pasta>=0.1.1 in /opt/conda/lib/python3.10/site-packages (from tensorflow<2.16,>=2.15.0->tensorflow-text->keras-nlp) (0.2.0)\r\n",
            "Requirement already satisfied: libclang>=13.0.0 in /opt/conda/lib/python3.10/site-packages (from tensorflow<2.16,>=2.15.0->tensorflow-text->keras-nlp) (16.0.6)\r\n",
            "Requirement already satisfied: ml-dtypes~=0.2.0 in /opt/conda/lib/python3.10/site-packages (from tensorflow<2.16,>=2.15.0->tensorflow-text->keras-nlp) (0.2.0)\r\n",
            "Requirement already satisfied: opt-einsum>=2.3.2 in /opt/conda/lib/python3.10/site-packages (from tensorflow<2.16,>=2.15.0->tensorflow-text->keras-nlp) (3.3.0)\r\n",
            "Requirement already satisfied: protobuf!=4.21.0,!=4.21.1,!=4.21.2,!=4.21.3,!=4.21.4,!=4.21.5,<5.0.0dev,>=3.20.3 in /opt/conda/lib/python3.10/site-packages (from tensorflow<2.16,>=2.15.0->tensorflow-text->keras-nlp) (3.20.3)\r\n",
            "Requirement already satisfied: setuptools in /opt/conda/lib/python3.10/site-packages (from tensorflow<2.16,>=2.15.0->tensorflow-text->keras-nlp) (69.0.3)\r\n",
            "Requirement already satisfied: six>=1.12.0 in /opt/conda/lib/python3.10/site-packages (from tensorflow<2.16,>=2.15.0->tensorflow-text->keras-nlp) (1.16.0)\r\n",
            "Requirement already satisfied: termcolor>=1.1.0 in /opt/conda/lib/python3.10/site-packages (from tensorflow<2.16,>=2.15.0->tensorflow-text->keras-nlp) (2.4.0)\r\n",
            "Requirement already satisfied: typing-extensions>=3.6.6 in /opt/conda/lib/python3.10/site-packages (from tensorflow<2.16,>=2.15.0->tensorflow-text->keras-nlp) (4.9.0)\r\n",
            "Requirement already satisfied: wrapt<1.15,>=1.11.0 in /opt/conda/lib/python3.10/site-packages (from tensorflow<2.16,>=2.15.0->tensorflow-text->keras-nlp) (1.14.1)\r\n",
            "Requirement already satisfied: tensorflow-io-gcs-filesystem>=0.23.1 in /opt/conda/lib/python3.10/site-packages (from tensorflow<2.16,>=2.15.0->tensorflow-text->keras-nlp) (0.35.0)\r\n",
            "Requirement already satisfied: grpcio<2.0,>=1.24.3 in /opt/conda/lib/python3.10/site-packages (from tensorflow<2.16,>=2.15.0->tensorflow-text->keras-nlp) (1.51.1)\r\n",
            "Requirement already satisfied: tensorboard<2.16,>=2.15 in /opt/conda/lib/python3.10/site-packages (from tensorflow<2.16,>=2.15.0->tensorflow-text->keras-nlp) (2.15.1)\r\n",
            "Requirement already satisfied: tensorflow-estimator<2.16,>=2.15.0 in /opt/conda/lib/python3.10/site-packages (from tensorflow<2.16,>=2.15.0->tensorflow-text->keras-nlp) (2.15.0)\r\n",
            "Requirement already satisfied: keras<2.16,>=2.15.0 in /opt/conda/lib/python3.10/site-packages (from tensorflow<2.16,>=2.15.0->tensorflow-text->keras-nlp) (2.15.0)\r\n",
            "Requirement already satisfied: charset-normalizer<4,>=2 in /opt/conda/lib/python3.10/site-packages (from requests->kagglehub->keras-nlp) (3.3.2)\r\n",
            "Requirement already satisfied: idna<4,>=2.5 in /opt/conda/lib/python3.10/site-packages (from requests->kagglehub->keras-nlp) (3.6)\r\n",
            "Requirement already satisfied: urllib3<3,>=1.21.1 in /opt/conda/lib/python3.10/site-packages (from requests->kagglehub->keras-nlp) (1.26.18)\r\n",
            "Requirement already satisfied: certifi>=2017.4.17 in /opt/conda/lib/python3.10/site-packages (from requests->kagglehub->keras-nlp) (2023.11.17)\r\n",
            "Requirement already satisfied: wheel<1.0,>=0.23.0 in /opt/conda/lib/python3.10/site-packages (from astunparse>=1.6.0->tensorflow<2.16,>=2.15.0->tensorflow-text->keras-nlp) (0.42.0)\r\n",
            "Requirement already satisfied: google-auth<3,>=1.6.3 in /opt/conda/lib/python3.10/site-packages (from tensorboard<2.16,>=2.15->tensorflow<2.16,>=2.15.0->tensorflow-text->keras-nlp) (2.26.1)\r\n",
            "Requirement already satisfied: google-auth-oauthlib<2,>=0.5 in /opt/conda/lib/python3.10/site-packages (from tensorboard<2.16,>=2.15->tensorflow<2.16,>=2.15.0->tensorflow-text->keras-nlp) (1.2.0)\r\n",
            "Requirement already satisfied: markdown>=2.6.8 in /opt/conda/lib/python3.10/site-packages (from tensorboard<2.16,>=2.15->tensorflow<2.16,>=2.15.0->tensorflow-text->keras-nlp) (3.5.2)\r\n",
            "Requirement already satisfied: tensorboard-data-server<0.8.0,>=0.7.0 in /opt/conda/lib/python3.10/site-packages (from tensorboard<2.16,>=2.15->tensorflow<2.16,>=2.15.0->tensorflow-text->keras-nlp) (0.7.2)\r\n",
            "Requirement already satisfied: werkzeug>=1.0.1 in /opt/conda/lib/python3.10/site-packages (from tensorboard<2.16,>=2.15->tensorflow<2.16,>=2.15.0->tensorflow-text->keras-nlp) (3.0.1)\r\n",
            "Requirement already satisfied: cachetools<6.0,>=2.0.0 in /opt/conda/lib/python3.10/site-packages (from google-auth<3,>=1.6.3->tensorboard<2.16,>=2.15->tensorflow<2.16,>=2.15.0->tensorflow-text->keras-nlp) (4.2.4)\r\n",
            "Requirement already satisfied: pyasn1-modules>=0.2.1 in /opt/conda/lib/python3.10/site-packages (from google-auth<3,>=1.6.3->tensorboard<2.16,>=2.15->tensorflow<2.16,>=2.15.0->tensorflow-text->keras-nlp) (0.3.0)\r\n",
            "Requirement already satisfied: rsa<5,>=3.1.4 in /opt/conda/lib/python3.10/site-packages (from google-auth<3,>=1.6.3->tensorboard<2.16,>=2.15->tensorflow<2.16,>=2.15.0->tensorflow-text->keras-nlp) (4.9)\r\n",
            "Requirement already satisfied: requests-oauthlib>=0.7.0 in /opt/conda/lib/python3.10/site-packages (from google-auth-oauthlib<2,>=0.5->tensorboard<2.16,>=2.15->tensorflow<2.16,>=2.15.0->tensorflow-text->keras-nlp) (1.3.1)\r\n",
            "Requirement already satisfied: MarkupSafe>=2.1.1 in /opt/conda/lib/python3.10/site-packages (from werkzeug>=1.0.1->tensorboard<2.16,>=2.15->tensorflow<2.16,>=2.15.0->tensorflow-text->keras-nlp) (2.1.3)\r\n",
            "Requirement already satisfied: pyasn1<0.6.0,>=0.4.6 in /opt/conda/lib/python3.10/site-packages (from pyasn1-modules>=0.2.1->google-auth<3,>=1.6.3->tensorboard<2.16,>=2.15->tensorflow<2.16,>=2.15.0->tensorflow-text->keras-nlp) (0.5.1)\r\n",
            "Requirement already satisfied: oauthlib>=3.0.0 in /opt/conda/lib/python3.10/site-packages (from requests-oauthlib>=0.7.0->google-auth-oauthlib<2,>=0.5->tensorboard<2.16,>=2.15->tensorflow<2.16,>=2.15.0->tensorflow-text->keras-nlp) (3.2.2)\r\n",
            "Downloading keras_nlp-0.8.1-py3-none-any.whl (465 kB)\r\n",
            "\u001b[2K   \u001b[90m━━━━━━━━━━━━━━━━━━━━━━━━━━━━━━━━━━━━━━━━\u001b[0m \u001b[32m465.2/465.2 kB\u001b[0m \u001b[31m12.9 MB/s\u001b[0m eta \u001b[36m0:00:00\u001b[0m\r\n",
            "\u001b[?25hInstalling collected packages: keras-nlp\r\n",
            "  Attempting uninstall: keras-nlp\r\n",
            "    Found existing installation: keras-nlp 0.7.0\r\n",
            "    Uninstalling keras-nlp-0.7.0:\r\n",
            "      Successfully uninstalled keras-nlp-0.7.0\r\n",
            "Successfully installed keras-nlp-0.8.1\r\n",
            "Requirement already satisfied: keras in /opt/conda/lib/python3.10/site-packages (2.15.0)\r\n",
            "Collecting keras\r\n",
            "  Downloading keras-3.0.5-py3-none-any.whl.metadata (4.8 kB)\r\n",
            "Requirement already satisfied: absl-py in /opt/conda/lib/python3.10/site-packages (from keras) (1.4.0)\r\n",
            "Requirement already satisfied: numpy in /opt/conda/lib/python3.10/site-packages (from keras) (1.24.4)\r\n",
            "Requirement already satisfied: rich in /opt/conda/lib/python3.10/site-packages (from keras) (13.7.0)\r\n",
            "Requirement already satisfied: namex in /opt/conda/lib/python3.10/site-packages (from keras) (0.0.7)\r\n",
            "Requirement already satisfied: h5py in /opt/conda/lib/python3.10/site-packages (from keras) (3.10.0)\r\n",
            "Requirement already satisfied: dm-tree in /opt/conda/lib/python3.10/site-packages (from keras) (0.1.8)\r\n",
            "Requirement already satisfied: ml-dtypes in /opt/conda/lib/python3.10/site-packages (from keras) (0.2.0)\r\n",
            "Requirement already satisfied: markdown-it-py>=2.2.0 in /opt/conda/lib/python3.10/site-packages (from rich->keras) (3.0.0)\r\n",
            "Requirement already satisfied: pygments<3.0.0,>=2.13.0 in /opt/conda/lib/python3.10/site-packages (from rich->keras) (2.17.2)\r\n",
            "Requirement already satisfied: mdurl~=0.1 in /opt/conda/lib/python3.10/site-packages (from markdown-it-py>=2.2.0->rich->keras) (0.1.2)\r\n",
            "Downloading keras-3.0.5-py3-none-any.whl (1.0 MB)\r\n",
            "\u001b[2K   \u001b[90m━━━━━━━━━━━━━━━━━━━━━━━━━━━━━━━━━━━━━━━━\u001b[0m \u001b[32m1.0/1.0 MB\u001b[0m \u001b[31m26.9 MB/s\u001b[0m eta \u001b[36m0:00:00\u001b[0m\r\n",
            "\u001b[?25hInstalling collected packages: keras\r\n",
            "  Attempting uninstall: keras\r\n",
            "    Found existing installation: keras 2.15.0\r\n",
            "    Uninstalling keras-2.15.0:\r\n",
            "      Successfully uninstalled keras-2.15.0\r\n",
            "\u001b[31mERROR: pip's dependency resolver does not currently take into account all the packages that are installed. This behaviour is the source of the following dependency conflicts.\r\n",
            "tensorflow 2.15.0 requires keras<2.16,>=2.15.0, but you have keras 3.0.5 which is incompatible.\r\n",
            "tensorflowjs 4.16.0 requires packaging~=23.1, but you have packaging 21.3 which is incompatible.\u001b[0m\u001b[31m\r\n",
            "\u001b[0mSuccessfully installed keras-3.0.5\r\n"
          ]
        }
      ],
      "source": [
        "!pip install -U keras-nlp\n",
        "!pip install -U keras"
      ]
    },
    {
      "cell_type": "code",
      "execution_count": null,
      "id": "754dbb86",
      "metadata": {
        "execution": {
          "iopub.execute_input": "2024-02-24T15:25:37.264667Z",
          "iopub.status.busy": "2024-02-24T15:25:37.264103Z",
          "iopub.status.idle": "2024-02-24T15:25:50.178039Z",
          "shell.execute_reply": "2024-02-24T15:25:50.177079Z"
        },
        "papermill": {
          "duration": 12.927768,
          "end_time": "2024-02-24T15:25:50.180374",
          "exception": false,
          "start_time": "2024-02-24T15:25:37.252606",
          "status": "completed"
        },
        "tags": [],
        "id": "754dbb86",
        "outputId": "a4046c46-eae7-4672-c0e5-ff179e942684"
      },
      "outputs": [
        {
          "name": "stderr",
          "output_type": "stream",
          "text": [
            "2024-02-24 15:25:39.025753: E external/local_xla/xla/stream_executor/cuda/cuda_dnn.cc:9261] Unable to register cuDNN factory: Attempting to register factory for plugin cuDNN when one has already been registered\n",
            "2024-02-24 15:25:39.025848: E external/local_xla/xla/stream_executor/cuda/cuda_fft.cc:607] Unable to register cuFFT factory: Attempting to register factory for plugin cuFFT when one has already been registered\n",
            "2024-02-24 15:25:39.161904: E external/local_xla/xla/stream_executor/cuda/cuda_blas.cc:1515] Unable to register cuBLAS factory: Attempting to register factory for plugin cuBLAS when one has already been registered\n"
          ]
        }
      ],
      "source": [
        "import keras\n",
        "import keras_nlp\n",
        "import numpy as np"
      ]
    },
    {
      "cell_type": "code",
      "execution_count": null,
      "id": "6179b29a",
      "metadata": {
        "execution": {
          "iopub.execute_input": "2024-02-24T15:25:50.203693Z",
          "iopub.status.busy": "2024-02-24T15:25:50.202855Z",
          "iopub.status.idle": "2024-02-24T15:25:50.207458Z",
          "shell.execute_reply": "2024-02-24T15:25:50.206638Z"
        },
        "papermill": {
          "duration": 0.017655,
          "end_time": "2024-02-24T15:25:50.209293",
          "exception": false,
          "start_time": "2024-02-24T15:25:50.191638",
          "status": "completed"
        },
        "tags": [],
        "id": "6179b29a"
      },
      "outputs": [],
      "source": [
        "import os\n",
        "\n",
        "os.environ[\"KERAS_BACKEND\"] = \"jax\"  # Or \"tensorflow\" or \"torch\".\n",
        "# Avoid memory fragmentation on JAX backend.\n",
        "os.environ[\"XLA_PYTHON_CLIENT_MEM_FRACTION\"]=\"1.00\""
      ]
    },
    {
      "cell_type": "markdown",
      "id": "8cfab915",
      "metadata": {
        "papermill": {
          "duration": 0.010005,
          "end_time": "2024-02-24T15:25:50.229546",
          "exception": false,
          "start_time": "2024-02-24T15:25:50.219541",
          "status": "completed"
        },
        "tags": [],
        "id": "8cfab915"
      },
      "source": [
        "KerasNLP provides implementations of many popular model architectures. In this tutorial, you'll create a model using GemmaCausalLM, an end-to-end Gemma model for causal language modeling. A causal language model predicts the next token based on previous tokens.\n",
        "\n",
        "Create the model using the from_preset method:"
      ]
    },
    {
      "cell_type": "code",
      "execution_count": null,
      "id": "200d3591",
      "metadata": {
        "execution": {
          "iopub.execute_input": "2024-02-24T15:25:50.252279Z",
          "iopub.status.busy": "2024-02-24T15:25:50.251789Z",
          "iopub.status.idle": "2024-02-24T15:26:56.248249Z",
          "shell.execute_reply": "2024-02-24T15:26:56.247474Z"
        },
        "papermill": {
          "duration": 66.00977,
          "end_time": "2024-02-24T15:26:56.250578",
          "exception": false,
          "start_time": "2024-02-24T15:25:50.240808",
          "status": "completed"
        },
        "tags": [],
        "id": "200d3591",
        "outputId": "23649bbe-e076-4537-8a6f-e2223daea708"
      },
      "outputs": [
        {
          "name": "stderr",
          "output_type": "stream",
          "text": [
            "Attaching 'config.json' from model 'keras/gemma/keras/gemma_2b_en/2' to your Kaggle notebook...\n",
            "Attaching 'config.json' from model 'keras/gemma/keras/gemma_2b_en/2' to your Kaggle notebook...\n",
            "Attaching 'model.weights.h5' from model 'keras/gemma/keras/gemma_2b_en/2' to your Kaggle notebook...\n",
            "Attaching 'tokenizer.json' from model 'keras/gemma/keras/gemma_2b_en/2' to your Kaggle notebook...\n",
            "Attaching 'assets/tokenizer/vocabulary.spm' from model 'keras/gemma/keras/gemma_2b_en/2' to your Kaggle notebook...\n",
            "normalizer.cc(51) LOG(INFO) precompiled_charsmap is empty. use identity normalization.\n"
          ]
        }
      ],
      "source": [
        "gemma_lm = keras_nlp.models.GemmaCausalLM.from_preset(\"gemma_2b_en\")\n",
        "# gemma_lm = keras_nlp.models.GemmaCausalLM.from_preset(\"gemma_7b_en\")\n",
        "# gemma_lm.generate(\"Keras is a\", max_length=30)\n",
        "\n",
        "# Generate with batched prompts.\n",
        "# gemma_lm.generate([\"Keras is a\", \"I want to say\"], max_length=30)\n"
      ]
    },
    {
      "cell_type": "code",
      "execution_count": null,
      "id": "45513de2",
      "metadata": {
        "execution": {
          "iopub.execute_input": "2024-02-24T15:26:56.274603Z",
          "iopub.status.busy": "2024-02-24T15:26:56.273975Z",
          "iopub.status.idle": "2024-02-24T15:26:56.304511Z",
          "shell.execute_reply": "2024-02-24T15:26:56.303665Z"
        },
        "papermill": {
          "duration": 0.044374,
          "end_time": "2024-02-24T15:26:56.306477",
          "exception": false,
          "start_time": "2024-02-24T15:26:56.262103",
          "status": "completed"
        },
        "tags": [],
        "id": "45513de2",
        "outputId": "65e851d2-c981-4b8d-ca51-3d8ac741fa71"
      },
      "outputs": [
        {
          "data": {
            "text/html": [
              "<pre style=\"white-space:pre;overflow-x:auto;line-height:normal;font-family:Menlo,'DejaVu Sans Mono',consolas,'Courier New',monospace\"><span style=\"font-weight: bold\">Preprocessor: \"gemma_causal_lm_preprocessor\"</span>\n",
              "</pre>\n"
            ],
            "text/plain": [
              "\u001b[1mPreprocessor: \"gemma_causal_lm_preprocessor\"\u001b[0m\n"
            ]
          },
          "metadata": {},
          "output_type": "display_data"
        },
        {
          "data": {
            "text/html": [
              "<pre style=\"white-space:pre;overflow-x:auto;line-height:normal;font-family:Menlo,'DejaVu Sans Mono',consolas,'Courier New',monospace\">┏━━━━━━━━━━━━━━━━━━━━━━━━━━━━━━━━━━━━━━━━━━━━━━━━━━━━┳━━━━━━━━━━━━━━━━━━━━━━━━━━━━━━━━━━━━━━━━━━━━━━━━━━━━━┓\n",
              "┃<span style=\"font-weight: bold\"> Tokenizer (type)                                   </span>┃<span style=\"font-weight: bold\">                                             Vocab # </span>┃\n",
              "┡━━━━━━━━━━━━━━━━━━━━━━━━━━━━━━━━━━━━━━━━━━━━━━━━━━━━╇━━━━━━━━━━━━━━━━━━━━━━━━━━━━━━━━━━━━━━━━━━━━━━━━━━━━━┩\n",
              "│ gemma_tokenizer (<span style=\"color: #0087ff; text-decoration-color: #0087ff\">GemmaTokenizer</span>)                   │                                             <span style=\"color: #00af00; text-decoration-color: #00af00\">256,000</span> │\n",
              "└────────────────────────────────────────────────────┴─────────────────────────────────────────────────────┘\n",
              "</pre>\n"
            ],
            "text/plain": [
              "┏━━━━━━━━━━━━━━━━━━━━━━━━━━━━━━━━━━━━━━━━━━━━━━━━━━━━┳━━━━━━━━━━━━━━━━━━━━━━━━━━━━━━━━━━━━━━━━━━━━━━━━━━━━━┓\n",
              "┃\u001b[1m \u001b[0m\u001b[1mTokenizer (type)                                  \u001b[0m\u001b[1m \u001b[0m┃\u001b[1m \u001b[0m\u001b[1m                                            Vocab #\u001b[0m\u001b[1m \u001b[0m┃\n",
              "┡━━━━━━━━━━━━━━━━━━━━━━━━━━━━━━━━━━━━━━━━━━━━━━━━━━━━╇━━━━━━━━━━━━━━━━━━━━━━━━━━━━━━━━━━━━━━━━━━━━━━━━━━━━━┩\n",
              "│ gemma_tokenizer (\u001b[38;5;33mGemmaTokenizer\u001b[0m)                   │                                             \u001b[38;5;34m256,000\u001b[0m │\n",
              "└────────────────────────────────────────────────────┴─────────────────────────────────────────────────────┘\n"
            ]
          },
          "metadata": {},
          "output_type": "display_data"
        },
        {
          "data": {
            "text/html": [
              "<pre style=\"white-space:pre;overflow-x:auto;line-height:normal;font-family:Menlo,'DejaVu Sans Mono',consolas,'Courier New',monospace\"><span style=\"font-weight: bold\">Model: \"gemma_causal_lm\"</span>\n",
              "</pre>\n"
            ],
            "text/plain": [
              "\u001b[1mModel: \"gemma_causal_lm\"\u001b[0m\n"
            ]
          },
          "metadata": {},
          "output_type": "display_data"
        },
        {
          "data": {
            "text/html": [
              "<pre style=\"white-space:pre;overflow-x:auto;line-height:normal;font-family:Menlo,'DejaVu Sans Mono',consolas,'Courier New',monospace\">┏━━━━━━━━━━━━━━━━━━━━━━━━━━━━━━━┳━━━━━━━━━━━━━━━━━━━━━━━━━━━┳━━━━━━━━━━━━━━━━━┳━━━━━━━━━━━━━━━━━━━━━━━━━━━━┓\n",
              "┃<span style=\"font-weight: bold\"> Layer (type)                  </span>┃<span style=\"font-weight: bold\"> Output Shape              </span>┃<span style=\"font-weight: bold\">         Param # </span>┃<span style=\"font-weight: bold\"> Connected to               </span>┃\n",
              "┡━━━━━━━━━━━━━━━━━━━━━━━━━━━━━━━╇━━━━━━━━━━━━━━━━━━━━━━━━━━━╇━━━━━━━━━━━━━━━━━╇━━━━━━━━━━━━━━━━━━━━━━━━━━━━┩\n",
              "│ padding_mask (<span style=\"color: #0087ff; text-decoration-color: #0087ff\">InputLayer</span>)     │ (<span style=\"color: #00d7ff; text-decoration-color: #00d7ff\">None</span>, <span style=\"color: #00d7ff; text-decoration-color: #00d7ff\">None</span>)              │               <span style=\"color: #00af00; text-decoration-color: #00af00\">0</span> │ -                          │\n",
              "├───────────────────────────────┼───────────────────────────┼─────────────────┼────────────────────────────┤\n",
              "│ token_ids (<span style=\"color: #0087ff; text-decoration-color: #0087ff\">InputLayer</span>)        │ (<span style=\"color: #00d7ff; text-decoration-color: #00d7ff\">None</span>, <span style=\"color: #00d7ff; text-decoration-color: #00d7ff\">None</span>)              │               <span style=\"color: #00af00; text-decoration-color: #00af00\">0</span> │ -                          │\n",
              "├───────────────────────────────┼───────────────────────────┼─────────────────┼────────────────────────────┤\n",
              "│ gemma_backbone                │ (<span style=\"color: #00d7ff; text-decoration-color: #00d7ff\">None</span>, <span style=\"color: #00d7ff; text-decoration-color: #00d7ff\">None</span>, <span style=\"color: #00af00; text-decoration-color: #00af00\">2048</span>)        │   <span style=\"color: #00af00; text-decoration-color: #00af00\">2,506,172,416</span> │ padding_mask[<span style=\"color: #00af00; text-decoration-color: #00af00\">0</span>][<span style=\"color: #00af00; text-decoration-color: #00af00\">0</span>],        │\n",
              "│ (<span style=\"color: #0087ff; text-decoration-color: #0087ff\">GemmaBackbone</span>)               │                           │                 │ token_ids[<span style=\"color: #00af00; text-decoration-color: #00af00\">0</span>][<span style=\"color: #00af00; text-decoration-color: #00af00\">0</span>]            │\n",
              "├───────────────────────────────┼───────────────────────────┼─────────────────┼────────────────────────────┤\n",
              "│ token_embedding               │ (<span style=\"color: #00d7ff; text-decoration-color: #00d7ff\">None</span>, <span style=\"color: #00d7ff; text-decoration-color: #00d7ff\">None</span>, <span style=\"color: #00af00; text-decoration-color: #00af00\">256000</span>)      │     <span style=\"color: #00af00; text-decoration-color: #00af00\">524,288,000</span> │ gemma_backbone[<span style=\"color: #00af00; text-decoration-color: #00af00\">0</span>][<span style=\"color: #00af00; text-decoration-color: #00af00\">0</span>]       │\n",
              "│ (<span style=\"color: #0087ff; text-decoration-color: #0087ff\">ReversibleEmbedding</span>)         │                           │                 │                            │\n",
              "└───────────────────────────────┴───────────────────────────┴─────────────────┴────────────────────────────┘\n",
              "</pre>\n"
            ],
            "text/plain": [
              "┏━━━━━━━━━━━━━━━━━━━━━━━━━━━━━━━┳━━━━━━━━━━━━━━━━━━━━━━━━━━━┳━━━━━━━━━━━━━━━━━┳━━━━━━━━━━━━━━━━━━━━━━━━━━━━┓\n",
              "┃\u001b[1m \u001b[0m\u001b[1mLayer (type)                 \u001b[0m\u001b[1m \u001b[0m┃\u001b[1m \u001b[0m\u001b[1mOutput Shape             \u001b[0m\u001b[1m \u001b[0m┃\u001b[1m \u001b[0m\u001b[1m        Param #\u001b[0m\u001b[1m \u001b[0m┃\u001b[1m \u001b[0m\u001b[1mConnected to              \u001b[0m\u001b[1m \u001b[0m┃\n",
              "┡━━━━━━━━━━━━━━━━━━━━━━━━━━━━━━━╇━━━━━━━━━━━━━━━━━━━━━━━━━━━╇━━━━━━━━━━━━━━━━━╇━━━━━━━━━━━━━━━━━━━━━━━━━━━━┩\n",
              "│ padding_mask (\u001b[38;5;33mInputLayer\u001b[0m)     │ (\u001b[38;5;45mNone\u001b[0m, \u001b[38;5;45mNone\u001b[0m)              │               \u001b[38;5;34m0\u001b[0m │ -                          │\n",
              "├───────────────────────────────┼───────────────────────────┼─────────────────┼────────────────────────────┤\n",
              "│ token_ids (\u001b[38;5;33mInputLayer\u001b[0m)        │ (\u001b[38;5;45mNone\u001b[0m, \u001b[38;5;45mNone\u001b[0m)              │               \u001b[38;5;34m0\u001b[0m │ -                          │\n",
              "├───────────────────────────────┼───────────────────────────┼─────────────────┼────────────────────────────┤\n",
              "│ gemma_backbone                │ (\u001b[38;5;45mNone\u001b[0m, \u001b[38;5;45mNone\u001b[0m, \u001b[38;5;34m2048\u001b[0m)        │   \u001b[38;5;34m2,506,172,416\u001b[0m │ padding_mask[\u001b[38;5;34m0\u001b[0m][\u001b[38;5;34m0\u001b[0m],        │\n",
              "│ (\u001b[38;5;33mGemmaBackbone\u001b[0m)               │                           │                 │ token_ids[\u001b[38;5;34m0\u001b[0m][\u001b[38;5;34m0\u001b[0m]            │\n",
              "├───────────────────────────────┼───────────────────────────┼─────────────────┼────────────────────────────┤\n",
              "│ token_embedding               │ (\u001b[38;5;45mNone\u001b[0m, \u001b[38;5;45mNone\u001b[0m, \u001b[38;5;34m256000\u001b[0m)      │     \u001b[38;5;34m524,288,000\u001b[0m │ gemma_backbone[\u001b[38;5;34m0\u001b[0m][\u001b[38;5;34m0\u001b[0m]       │\n",
              "│ (\u001b[38;5;33mReversibleEmbedding\u001b[0m)         │                           │                 │                            │\n",
              "└───────────────────────────────┴───────────────────────────┴─────────────────┴────────────────────────────┘\n"
            ]
          },
          "metadata": {},
          "output_type": "display_data"
        },
        {
          "data": {
            "text/html": [
              "<pre style=\"white-space:pre;overflow-x:auto;line-height:normal;font-family:Menlo,'DejaVu Sans Mono',consolas,'Courier New',monospace\"><span style=\"font-weight: bold\"> Total params: </span><span style=\"color: #00af00; text-decoration-color: #00af00\">2,506,172,416</span> (9.34 GB)\n",
              "</pre>\n"
            ],
            "text/plain": [
              "\u001b[1m Total params: \u001b[0m\u001b[38;5;34m2,506,172,416\u001b[0m (9.34 GB)\n"
            ]
          },
          "metadata": {},
          "output_type": "display_data"
        },
        {
          "data": {
            "text/html": [
              "<pre style=\"white-space:pre;overflow-x:auto;line-height:normal;font-family:Menlo,'DejaVu Sans Mono',consolas,'Courier New',monospace\"><span style=\"font-weight: bold\"> Trainable params: </span><span style=\"color: #00af00; text-decoration-color: #00af00\">2,506,172,416</span> (9.34 GB)\n",
              "</pre>\n"
            ],
            "text/plain": [
              "\u001b[1m Trainable params: \u001b[0m\u001b[38;5;34m2,506,172,416\u001b[0m (9.34 GB)\n"
            ]
          },
          "metadata": {},
          "output_type": "display_data"
        },
        {
          "data": {
            "text/html": [
              "<pre style=\"white-space:pre;overflow-x:auto;line-height:normal;font-family:Menlo,'DejaVu Sans Mono',consolas,'Courier New',monospace\"><span style=\"font-weight: bold\"> Non-trainable params: </span><span style=\"color: #00af00; text-decoration-color: #00af00\">0</span> (0.00 B)\n",
              "</pre>\n"
            ],
            "text/plain": [
              "\u001b[1m Non-trainable params: \u001b[0m\u001b[38;5;34m0\u001b[0m (0.00 B)\n"
            ]
          },
          "metadata": {},
          "output_type": "display_data"
        }
      ],
      "source": [
        "gemma_lm.summary()"
      ]
    },
    {
      "cell_type": "markdown",
      "id": "cda743d7",
      "metadata": {
        "papermill": {
          "duration": 0.011872,
          "end_time": "2024-02-24T15:26:56.330070",
          "exception": false,
          "start_time": "2024-02-24T15:26:56.318198",
          "status": "completed"
        },
        "tags": [],
        "id": "cda743d7"
      },
      "source": [
        "## Fine-tune Gemma models in Keras using LoRA"
      ]
    },
    {
      "cell_type": "code",
      "execution_count": null,
      "id": "8b9d8b59",
      "metadata": {
        "execution": {
          "iopub.execute_input": "2024-02-24T15:26:56.354602Z",
          "iopub.status.busy": "2024-02-24T15:26:56.354352Z",
          "iopub.status.idle": "2024-02-24T15:26:56.858727Z",
          "shell.execute_reply": "2024-02-24T15:26:56.857918Z"
        },
        "papermill": {
          "duration": 0.519117,
          "end_time": "2024-02-24T15:26:56.860915",
          "exception": false,
          "start_time": "2024-02-24T15:26:56.341798",
          "status": "completed"
        },
        "tags": [],
        "id": "8b9d8b59"
      },
      "outputs": [],
      "source": [
        "import csv\n",
        "\n",
        "data = []\n",
        "\n",
        "# Assuming the CSV file is named 'data.csv', and it contains two columns 'question' and 'answer'\n",
        "with open(\"/kaggle/input/layoutlm/medquad.csv\", mode='r', encoding='utf-8') as file:\n",
        "    reader = csv.DictReader(file)\n",
        "    for row in reader:\n",
        "        # The 'question' in the CSV file corresponds to 'instruction' in the original JSON\n",
        "        # The 'answer' in the CSV file corresponds to 'response' in the original JSON\n",
        "        template = \"Question:\\n{question}\\n\\nAnswer:\\n{answer}\"\n",
        "        data.append(template.format(**row))\n",
        "\n",
        "# Use only the first 1000 training instances\n",
        "# data = data[:1000]\n"
      ]
    },
    {
      "cell_type": "code",
      "execution_count": null,
      "id": "706e5cc4",
      "metadata": {
        "execution": {
          "iopub.execute_input": "2024-02-24T15:26:56.886600Z",
          "iopub.status.busy": "2024-02-24T15:26:56.886290Z",
          "iopub.status.idle": "2024-02-24T15:26:56.891959Z",
          "shell.execute_reply": "2024-02-24T15:26:56.891166Z"
        },
        "papermill": {
          "duration": 0.020564,
          "end_time": "2024-02-24T15:26:56.893810",
          "exception": false,
          "start_time": "2024-02-24T15:26:56.873246",
          "status": "completed"
        },
        "tags": [],
        "id": "706e5cc4",
        "outputId": "e217d14e-36d3-44c4-e784-755fa0d5e483"
      },
      "outputs": [
        {
          "data": {
            "text/plain": [
              "'Question:\\nWhat causes Glaucoma ?\\n\\nAnswer:\\nNearly 2.7 million people have glaucoma, a leading cause of blindness in the United States. Although anyone can get glaucoma, some people are at higher risk. They include - African-Americans over age 40  - everyone over age 60, especially Hispanics/Latinos  - people with a family history of glaucoma. African-Americans over age 40 everyone over age 60, especially Hispanics/Latinos people with a family history of glaucoma.  In addition to age, eye pressure is a risk factor. Whether you develop glaucoma depends on the level of pressure your optic nerve can tolerate without being damaged. This level is different for each person. Thats why a comprehensive dilated eye exam is very important. It can help your eye care professional determine what level of eye pressure is normal for you. Another risk factor for optic nerve damage relates to blood pressure. Thus, it is important to also make sure that your blood pressure is at a proper level for your body by working with your medical doctor. (Watch the animated video to learn more about the causes of glaucoma. To enlarge the video, click the brackets in the lower right-hand corner. To reduce the video, press the Escape (Esc) button on your keyboard.)'"
            ]
          },
          "execution_count": 9,
          "metadata": {},
          "output_type": "execute_result"
        }
      ],
      "source": [
        "data[1]"
      ]
    },
    {
      "cell_type": "markdown",
      "id": "d82cd532",
      "metadata": {
        "papermill": {
          "duration": 0.011685,
          "end_time": "2024-02-24T15:26:56.917397",
          "exception": false,
          "start_time": "2024-02-24T15:26:56.905712",
          "status": "completed"
        },
        "tags": [],
        "id": "d82cd532"
      },
      "source": [
        "![image.png](attachment:ff1d2af8-cc0b-44d5-8ee1-eef5db68c4db.png)![image.png](attachment:3d85d682-b871-491e-b8d0-361ef40dce5b.png)"
      ]
    },
    {
      "cell_type": "markdown",
      "id": "009efad7",
      "metadata": {
        "papermill": {
          "duration": 0.011603,
          "end_time": "2024-02-24T15:26:56.940758",
          "exception": false,
          "start_time": "2024-02-24T15:26:56.929155",
          "status": "completed"
        },
        "tags": [],
        "id": "009efad7"
      },
      "source": [
        "## Testing before fine-tuning"
      ]
    },
    {
      "cell_type": "code",
      "execution_count": null,
      "id": "1cf8a01b",
      "metadata": {
        "execution": {
          "iopub.execute_input": "2024-02-24T15:26:56.965486Z",
          "iopub.status.busy": "2024-02-24T15:26:56.965222Z",
          "iopub.status.idle": "2024-02-24T15:27:22.287125Z",
          "shell.execute_reply": "2024-02-24T15:27:22.285751Z"
        },
        "papermill": {
          "duration": 25.336736,
          "end_time": "2024-02-24T15:27:22.289334",
          "exception": false,
          "start_time": "2024-02-24T15:26:56.952598",
          "status": "completed"
        },
        "tags": [],
        "id": "1cf8a01b",
        "outputId": "5204a91d-18bf-4e19-9adf-3843f87dcad2"
      },
      "outputs": [
        {
          "name": "stderr",
          "output_type": "stream",
          "text": [
            "WARNING: All log messages before absl::InitializeLog() is called are written to STDERR\n",
            "I0000 00:00:1708788436.510120      27 device_compiler.h:186] Compiled cluster using XLA!  This line is logged at most once for the lifetime of the process.\n",
            "W0000 00:00:1708788436.573495      27 graph_launch.cc:671] Fallback to op-by-op mode because memset node breaks graph update\n",
            "W0000 00:00:1708788436.716571      27 graph_launch.cc:671] Fallback to op-by-op mode because memset node breaks graph update\n"
          ]
        },
        {
          "name": "stdout",
          "output_type": "stream",
          "text": [
            "Question:\n",
            "What is (are) Diabetes ?\n",
            "\n",
            "Answer:\n",
            "Diabetes is a group of diseases that affect the way your body uses blood sugar (glucose). Glucose is a type of sugar that is found in the foods you eat. It is also made by your liver and pancreas.\n",
            "\n",
            "Diabetes is a chronic disease that affects the way your body uses blood sugar. It is caused by a problem with the way your body makes or uses insulin. Insulin is a hormone that helps glucose enter your cells to be used for energy.\n",
            "\n",
            "There are two main types of diabetes:\n",
            "\n",
            "* Type 1 diabetes: This is when your body doesn't make enough insulin. It is also called insulin-dependent diabetes.\n",
            "* Type 2 diabetes: This is when your body doesn't use insulin well. It is also called non-insulin-dependent diabetes.\n",
            "\n",
            "Diabetes can be managed with diet, exercise, and medication.\n",
            "\n",
            "Diabetes is a chronic disease that affects the way your body uses blood sugar. It is caused by a problem with the way your body makes or uses insulin. Insulin is a hormone that helps glucose enter your cells to be used for energy.\n",
            "\n",
            "There are two main types of diabetes:\n",
            "\n",
            "* Type 1 diabetes: This is when your body doesn\n"
          ]
        }
      ],
      "source": [
        "prompt = template.format(\n",
        "    question=\"What is (are) Diabetes ?\",\n",
        "    answer=\"\",\n",
        ")\n",
        "print(gemma_lm.generate(prompt, max_length=256))"
      ]
    },
    {
      "cell_type": "code",
      "execution_count": null,
      "id": "b171dec9",
      "metadata": {
        "execution": {
          "iopub.execute_input": "2024-02-24T15:27:22.316490Z",
          "iopub.status.busy": "2024-02-24T15:27:22.315864Z",
          "iopub.status.idle": "2024-02-24T15:27:27.996443Z",
          "shell.execute_reply": "2024-02-24T15:27:27.995222Z"
        },
        "papermill": {
          "duration": 5.696658,
          "end_time": "2024-02-24T15:27:27.998988",
          "exception": false,
          "start_time": "2024-02-24T15:27:22.302330",
          "status": "completed"
        },
        "tags": [],
        "id": "b171dec9",
        "outputId": "49382387-d65e-4a08-fc78-0497df2c7987"
      },
      "outputs": [
        {
          "name": "stdout",
          "output_type": "stream",
          "text": [
            "Question:\n",
            "How to prevent Diabetes ?\n",
            "\n",
            "Answer:\n",
            "Diabetes is a disease that affects the way your body uses sugar (glucose). It is caused by a lack of insulin, a hormone that helps glucose enter your cells.\n",
            "\n",
            "The pancreas is a gland that produces insulin. When you eat, your body releases insulin to help glucose enter your cells. If you have diabetes, your body either doesn’t make enough insulin or doesn’t use it properly.\n",
            "\n",
            "Diabetes is a chronic disease that can lead to serious health problems, including heart disease, stroke, kidney disease, and blindness.\n",
            "\n",
            "There is no cure for diabetes, but there are many ways to manage it.\n",
            "\n",
            "The best way to prevent diabetes is to eat a healthy diet, exercise regularly, and maintain a healthy weight.\n",
            "\n",
            "If you have diabetes, it’s important to monitor your blood sugar levels and take your medications as prescribed.\n",
            "\n",
            "If you have diabetes, it’s important to monitor your blood sugar levels and take your medications as prescribed.\n",
            "\n",
            "If you have diabetes, it’s important to monitor your blood sugar levels and take your medications as prescribed.\n",
            "\n",
            "If you have diabetes, it’s important to monitor your blood sugar levels and take your medications as prescribed.\n",
            "\n",
            "If you have diabetes\n"
          ]
        }
      ],
      "source": [
        "prompt = template.format(\n",
        "    question=\"How to prevent Diabetes ?\",\n",
        "    answer=\"\",\n",
        ")\n",
        "print(gemma_lm.generate(prompt, max_length=256))"
      ]
    },
    {
      "cell_type": "code",
      "execution_count": null,
      "id": "e7d3c318",
      "metadata": {
        "execution": {
          "iopub.execute_input": "2024-02-24T15:27:28.026456Z",
          "iopub.status.busy": "2024-02-24T15:27:28.026114Z",
          "iopub.status.idle": "2024-02-24T15:27:28.181178Z",
          "shell.execute_reply": "2024-02-24T15:27:28.180221Z"
        },
        "papermill": {
          "duration": 0.170571,
          "end_time": "2024-02-24T15:27:28.183165",
          "exception": false,
          "start_time": "2024-02-24T15:27:28.012594",
          "status": "completed"
        },
        "tags": [],
        "id": "e7d3c318",
        "outputId": "5a9a09fa-6ca9-4e76-f814-b2a49ee80c30"
      },
      "outputs": [
        {
          "data": {
            "text/html": [
              "<pre style=\"white-space:pre;overflow-x:auto;line-height:normal;font-family:Menlo,'DejaVu Sans Mono',consolas,'Courier New',monospace\"><span style=\"font-weight: bold\">Preprocessor: \"gemma_causal_lm_preprocessor\"</span>\n",
              "</pre>\n"
            ],
            "text/plain": [
              "\u001b[1mPreprocessor: \"gemma_causal_lm_preprocessor\"\u001b[0m\n"
            ]
          },
          "metadata": {},
          "output_type": "display_data"
        },
        {
          "data": {
            "text/html": [
              "<pre style=\"white-space:pre;overflow-x:auto;line-height:normal;font-family:Menlo,'DejaVu Sans Mono',consolas,'Courier New',monospace\">┏━━━━━━━━━━━━━━━━━━━━━━━━━━━━━━━━━━━━━━━━━━━━━━━━━━━━┳━━━━━━━━━━━━━━━━━━━━━━━━━━━━━━━━━━━━━━━━━━━━━━━━━━━━━┓\n",
              "┃<span style=\"font-weight: bold\"> Tokenizer (type)                                   </span>┃<span style=\"font-weight: bold\">                                             Vocab # </span>┃\n",
              "┡━━━━━━━━━━━━━━━━━━━━━━━━━━━━━━━━━━━━━━━━━━━━━━━━━━━━╇━━━━━━━━━━━━━━━━━━━━━━━━━━━━━━━━━━━━━━━━━━━━━━━━━━━━━┩\n",
              "│ gemma_tokenizer (<span style=\"color: #0087ff; text-decoration-color: #0087ff\">GemmaTokenizer</span>)                   │                                             <span style=\"color: #00af00; text-decoration-color: #00af00\">256,000</span> │\n",
              "└────────────────────────────────────────────────────┴─────────────────────────────────────────────────────┘\n",
              "</pre>\n"
            ],
            "text/plain": [
              "┏━━━━━━━━━━━━━━━━━━━━━━━━━━━━━━━━━━━━━━━━━━━━━━━━━━━━┳━━━━━━━━━━━━━━━━━━━━━━━━━━━━━━━━━━━━━━━━━━━━━━━━━━━━━┓\n",
              "┃\u001b[1m \u001b[0m\u001b[1mTokenizer (type)                                  \u001b[0m\u001b[1m \u001b[0m┃\u001b[1m \u001b[0m\u001b[1m                                            Vocab #\u001b[0m\u001b[1m \u001b[0m┃\n",
              "┡━━━━━━━━━━━━━━━━━━━━━━━━━━━━━━━━━━━━━━━━━━━━━━━━━━━━╇━━━━━━━━━━━━━━━━━━━━━━━━━━━━━━━━━━━━━━━━━━━━━━━━━━━━━┩\n",
              "│ gemma_tokenizer (\u001b[38;5;33mGemmaTokenizer\u001b[0m)                   │                                             \u001b[38;5;34m256,000\u001b[0m │\n",
              "└────────────────────────────────────────────────────┴─────────────────────────────────────────────────────┘\n"
            ]
          },
          "metadata": {},
          "output_type": "display_data"
        },
        {
          "data": {
            "text/html": [
              "<pre style=\"white-space:pre;overflow-x:auto;line-height:normal;font-family:Menlo,'DejaVu Sans Mono',consolas,'Courier New',monospace\"><span style=\"font-weight: bold\">Model: \"gemma_causal_lm\"</span>\n",
              "</pre>\n"
            ],
            "text/plain": [
              "\u001b[1mModel: \"gemma_causal_lm\"\u001b[0m\n"
            ]
          },
          "metadata": {},
          "output_type": "display_data"
        },
        {
          "data": {
            "text/html": [
              "<pre style=\"white-space:pre;overflow-x:auto;line-height:normal;font-family:Menlo,'DejaVu Sans Mono',consolas,'Courier New',monospace\">┏━━━━━━━━━━━━━━━━━━━━━━━━━━━━━━━┳━━━━━━━━━━━━━━━━━━━━━━━━━━━┳━━━━━━━━━━━━━━━━━┳━━━━━━━━━━━━━━━━━━━━━━━━━━━━┓\n",
              "┃<span style=\"font-weight: bold\"> Layer (type)                  </span>┃<span style=\"font-weight: bold\"> Output Shape              </span>┃<span style=\"font-weight: bold\">         Param # </span>┃<span style=\"font-weight: bold\"> Connected to               </span>┃\n",
              "┡━━━━━━━━━━━━━━━━━━━━━━━━━━━━━━━╇━━━━━━━━━━━━━━━━━━━━━━━━━━━╇━━━━━━━━━━━━━━━━━╇━━━━━━━━━━━━━━━━━━━━━━━━━━━━┩\n",
              "│ padding_mask (<span style=\"color: #0087ff; text-decoration-color: #0087ff\">InputLayer</span>)     │ (<span style=\"color: #00d7ff; text-decoration-color: #00d7ff\">None</span>, <span style=\"color: #00d7ff; text-decoration-color: #00d7ff\">None</span>)              │               <span style=\"color: #00af00; text-decoration-color: #00af00\">0</span> │ -                          │\n",
              "├───────────────────────────────┼───────────────────────────┼─────────────────┼────────────────────────────┤\n",
              "│ token_ids (<span style=\"color: #0087ff; text-decoration-color: #0087ff\">InputLayer</span>)        │ (<span style=\"color: #00d7ff; text-decoration-color: #00d7ff\">None</span>, <span style=\"color: #00d7ff; text-decoration-color: #00d7ff\">None</span>)              │               <span style=\"color: #00af00; text-decoration-color: #00af00\">0</span> │ -                          │\n",
              "├───────────────────────────────┼───────────────────────────┼─────────────────┼────────────────────────────┤\n",
              "│ gemma_backbone                │ (<span style=\"color: #00d7ff; text-decoration-color: #00d7ff\">None</span>, <span style=\"color: #00d7ff; text-decoration-color: #00d7ff\">None</span>, <span style=\"color: #00af00; text-decoration-color: #00af00\">2048</span>)        │   <span style=\"color: #00af00; text-decoration-color: #00af00\">2,507,536,384</span> │ padding_mask[<span style=\"color: #00af00; text-decoration-color: #00af00\">0</span>][<span style=\"color: #00af00; text-decoration-color: #00af00\">0</span>],        │\n",
              "│ (<span style=\"color: #0087ff; text-decoration-color: #0087ff\">GemmaBackbone</span>)               │                           │                 │ token_ids[<span style=\"color: #00af00; text-decoration-color: #00af00\">0</span>][<span style=\"color: #00af00; text-decoration-color: #00af00\">0</span>]            │\n",
              "├───────────────────────────────┼───────────────────────────┼─────────────────┼────────────────────────────┤\n",
              "│ token_embedding               │ (<span style=\"color: #00d7ff; text-decoration-color: #00d7ff\">None</span>, <span style=\"color: #00d7ff; text-decoration-color: #00d7ff\">None</span>, <span style=\"color: #00af00; text-decoration-color: #00af00\">256000</span>)      │     <span style=\"color: #00af00; text-decoration-color: #00af00\">524,288,000</span> │ gemma_backbone[<span style=\"color: #00af00; text-decoration-color: #00af00\">0</span>][<span style=\"color: #00af00; text-decoration-color: #00af00\">0</span>]       │\n",
              "│ (<span style=\"color: #0087ff; text-decoration-color: #0087ff\">ReversibleEmbedding</span>)         │                           │                 │                            │\n",
              "└───────────────────────────────┴───────────────────────────┴─────────────────┴────────────────────────────┘\n",
              "</pre>\n"
            ],
            "text/plain": [
              "┏━━━━━━━━━━━━━━━━━━━━━━━━━━━━━━━┳━━━━━━━━━━━━━━━━━━━━━━━━━━━┳━━━━━━━━━━━━━━━━━┳━━━━━━━━━━━━━━━━━━━━━━━━━━━━┓\n",
              "┃\u001b[1m \u001b[0m\u001b[1mLayer (type)                 \u001b[0m\u001b[1m \u001b[0m┃\u001b[1m \u001b[0m\u001b[1mOutput Shape             \u001b[0m\u001b[1m \u001b[0m┃\u001b[1m \u001b[0m\u001b[1m        Param #\u001b[0m\u001b[1m \u001b[0m┃\u001b[1m \u001b[0m\u001b[1mConnected to              \u001b[0m\u001b[1m \u001b[0m┃\n",
              "┡━━━━━━━━━━━━━━━━━━━━━━━━━━━━━━━╇━━━━━━━━━━━━━━━━━━━━━━━━━━━╇━━━━━━━━━━━━━━━━━╇━━━━━━━━━━━━━━━━━━━━━━━━━━━━┩\n",
              "│ padding_mask (\u001b[38;5;33mInputLayer\u001b[0m)     │ (\u001b[38;5;45mNone\u001b[0m, \u001b[38;5;45mNone\u001b[0m)              │               \u001b[38;5;34m0\u001b[0m │ -                          │\n",
              "├───────────────────────────────┼───────────────────────────┼─────────────────┼────────────────────────────┤\n",
              "│ token_ids (\u001b[38;5;33mInputLayer\u001b[0m)        │ (\u001b[38;5;45mNone\u001b[0m, \u001b[38;5;45mNone\u001b[0m)              │               \u001b[38;5;34m0\u001b[0m │ -                          │\n",
              "├───────────────────────────────┼───────────────────────────┼─────────────────┼────────────────────────────┤\n",
              "│ gemma_backbone                │ (\u001b[38;5;45mNone\u001b[0m, \u001b[38;5;45mNone\u001b[0m, \u001b[38;5;34m2048\u001b[0m)        │   \u001b[38;5;34m2,507,536,384\u001b[0m │ padding_mask[\u001b[38;5;34m0\u001b[0m][\u001b[38;5;34m0\u001b[0m],        │\n",
              "│ (\u001b[38;5;33mGemmaBackbone\u001b[0m)               │                           │                 │ token_ids[\u001b[38;5;34m0\u001b[0m][\u001b[38;5;34m0\u001b[0m]            │\n",
              "├───────────────────────────────┼───────────────────────────┼─────────────────┼────────────────────────────┤\n",
              "│ token_embedding               │ (\u001b[38;5;45mNone\u001b[0m, \u001b[38;5;45mNone\u001b[0m, \u001b[38;5;34m256000\u001b[0m)      │     \u001b[38;5;34m524,288,000\u001b[0m │ gemma_backbone[\u001b[38;5;34m0\u001b[0m][\u001b[38;5;34m0\u001b[0m]       │\n",
              "│ (\u001b[38;5;33mReversibleEmbedding\u001b[0m)         │                           │                 │                            │\n",
              "└───────────────────────────────┴───────────────────────────┴─────────────────┴────────────────────────────┘\n"
            ]
          },
          "metadata": {},
          "output_type": "display_data"
        },
        {
          "data": {
            "text/html": [
              "<pre style=\"white-space:pre;overflow-x:auto;line-height:normal;font-family:Menlo,'DejaVu Sans Mono',consolas,'Courier New',monospace\"><span style=\"font-weight: bold\"> Total params: </span><span style=\"color: #00af00; text-decoration-color: #00af00\">2,507,536,384</span> (9.34 GB)\n",
              "</pre>\n"
            ],
            "text/plain": [
              "\u001b[1m Total params: \u001b[0m\u001b[38;5;34m2,507,536,384\u001b[0m (9.34 GB)\n"
            ]
          },
          "metadata": {},
          "output_type": "display_data"
        },
        {
          "data": {
            "text/html": [
              "<pre style=\"white-space:pre;overflow-x:auto;line-height:normal;font-family:Menlo,'DejaVu Sans Mono',consolas,'Courier New',monospace\"><span style=\"font-weight: bold\"> Trainable params: </span><span style=\"color: #00af00; text-decoration-color: #00af00\">1,363,968</span> (5.20 MB)\n",
              "</pre>\n"
            ],
            "text/plain": [
              "\u001b[1m Trainable params: \u001b[0m\u001b[38;5;34m1,363,968\u001b[0m (5.20 MB)\n"
            ]
          },
          "metadata": {},
          "output_type": "display_data"
        },
        {
          "data": {
            "text/html": [
              "<pre style=\"white-space:pre;overflow-x:auto;line-height:normal;font-family:Menlo,'DejaVu Sans Mono',consolas,'Courier New',monospace\"><span style=\"font-weight: bold\"> Non-trainable params: </span><span style=\"color: #00af00; text-decoration-color: #00af00\">2,506,172,416</span> (9.34 GB)\n",
              "</pre>\n"
            ],
            "text/plain": [
              "\u001b[1m Non-trainable params: \u001b[0m\u001b[38;5;34m2,506,172,416\u001b[0m (9.34 GB)\n"
            ]
          },
          "metadata": {},
          "output_type": "display_data"
        }
      ],
      "source": [
        "# Enable LoRA for the model and set the LoRA rank to 4.\n",
        "gemma_lm.backbone.enable_lora(rank=4)\n",
        "gemma_lm.summary()"
      ]
    },
    {
      "cell_type": "code",
      "execution_count": null,
      "id": "1a40f31f",
      "metadata": {
        "execution": {
          "iopub.execute_input": "2024-02-24T15:27:28.212887Z",
          "iopub.status.busy": "2024-02-24T15:27:28.212586Z",
          "iopub.status.idle": "2024-02-24T16:24:13.462911Z",
          "shell.execute_reply": "2024-02-24T16:24:13.461881Z"
        },
        "papermill": {
          "duration": 3405.268111,
          "end_time": "2024-02-24T16:24:13.465364",
          "exception": false,
          "start_time": "2024-02-24T15:27:28.197253",
          "status": "completed"
        },
        "tags": [],
        "id": "1a40f31f",
        "outputId": "fe6804cd-1848-48ca-8070-a1d8e67d09db"
      },
      "outputs": [
        {
          "name": "stderr",
          "output_type": "stream",
          "text": [
            "W0000 00:00:1708788489.286938      81 graph_launch.cc:671] Fallback to op-by-op mode because memset node breaks graph update\n"
          ]
        },
        {
          "name": "stdout",
          "output_type": "stream",
          "text": [
            "\u001b[1m16412/16412\u001b[0m \u001b[32m━━━━━━━━━━━━━━━━━━━━\u001b[0m\u001b[37m\u001b[0m \u001b[1m3404s\u001b[0m 205ms/step - loss: 1.3144 - sparse_categorical_accuracy: 0.6689\n"
          ]
        },
        {
          "data": {
            "text/plain": [
              "<keras.src.callbacks.history.History at 0x797f043f99f0>"
            ]
          },
          "execution_count": 13,
          "metadata": {},
          "output_type": "execute_result"
        }
      ],
      "source": [
        "# Limit the input sequence length to 512 (to control memory usage).\n",
        "gemma_lm.preprocessor.sequence_length = 128\n",
        "# Use AdamW (a common optimizer for transformer models).\n",
        "optimizer = keras.optimizers.AdamW(\n",
        "    learning_rate=5e-5,\n",
        "    weight_decay=0.01,\n",
        ")\n",
        "# Exclude layernorm and bias terms from decay.\n",
        "optimizer.exclude_from_weight_decay(var_names=[\"bias\", \"scale\"])\n",
        "\n",
        "gemma_lm.compile(\n",
        "    loss=keras.losses.SparseCategoricalCrossentropy(from_logits=True),\n",
        "    optimizer=optimizer,\n",
        "    weighted_metrics=[keras.metrics.SparseCategoricalAccuracy()],\n",
        ")\n",
        "gemma_lm.fit(data, epochs=1, batch_size=1)"
      ]
    },
    {
      "cell_type": "markdown",
      "id": "59347098",
      "metadata": {
        "papermill": {
          "duration": 1.434184,
          "end_time": "2024-02-24T16:24:16.372807",
          "exception": false,
          "start_time": "2024-02-24T16:24:14.938623",
          "status": "completed"
        },
        "tags": [],
        "id": "59347098"
      },
      "source": [
        "## Testing after tuning"
      ]
    },
    {
      "cell_type": "code",
      "execution_count": null,
      "id": "c0988bc1",
      "metadata": {
        "execution": {
          "iopub.execute_input": "2024-02-24T16:24:19.345243Z",
          "iopub.status.busy": "2024-02-24T16:24:19.344868Z",
          "iopub.status.idle": "2024-02-24T16:24:44.298379Z",
          "shell.execute_reply": "2024-02-24T16:24:44.297153Z"
        },
        "papermill": {
          "duration": 26.451766,
          "end_time": "2024-02-24T16:24:44.300640",
          "exception": false,
          "start_time": "2024-02-24T16:24:17.848874",
          "status": "completed"
        },
        "tags": [],
        "id": "c0988bc1",
        "outputId": "1465f04b-3e6e-43ee-cf53-3815c2e8dcf2"
      },
      "outputs": [
        {
          "name": "stderr",
          "output_type": "stream",
          "text": [
            "W0000 00:00:1708791881.174816      27 graph_launch.cc:671] Fallback to op-by-op mode because memset node breaks graph update\n",
            "W0000 00:00:1708791881.318224      27 graph_launch.cc:671] Fallback to op-by-op mode because memset node breaks graph update\n"
          ]
        },
        {
          "name": "stdout",
          "output_type": "stream",
          "text": [
            "Question:\n",
            "What is (are) Diabetes ?\n",
            "\n",
            "Answer:\n",
            "Diabetes is a chronic illness that affects the body's ability to control blood sugar levels. People with diabetes cannot control their blood sugar levels, so they have a high risk of developing health problems, such as heart disease, kidney disease, nerve damage, vision problems, and stroke.\n",
            "                \n",
            "Diabetes is not one disease; it is a group of diseases. People with diabetes are diagnosed with one of the following diseases:\n",
            "                \n",
            "                - Type 1 diabetes. Type 1 diabetes is a chronic illness that occurs when the pancreas produces little or no insulin.\n"
          ]
        }
      ],
      "source": [
        "prompt = template.format(\n",
        "    question=\"What is (are) Diabetes ?\",\n",
        "    answer=\"\",\n",
        ")\n",
        "print(gemma_lm.generate(prompt, max_length=256))"
      ]
    },
    {
      "cell_type": "code",
      "execution_count": null,
      "id": "eddd1766",
      "metadata": {
        "execution": {
          "iopub.execute_input": "2024-02-24T16:24:47.096535Z",
          "iopub.status.busy": "2024-02-24T16:24:47.096160Z",
          "iopub.status.idle": "2024-02-24T16:24:50.167921Z",
          "shell.execute_reply": "2024-02-24T16:24:50.166959Z"
        },
        "papermill": {
          "duration": 4.469506,
          "end_time": "2024-02-24T16:24:50.170130",
          "exception": false,
          "start_time": "2024-02-24T16:24:45.700624",
          "status": "completed"
        },
        "tags": [],
        "id": "eddd1766",
        "outputId": "4db9d8fb-3ef5-4bab-ab24-bb0cefc0f13d"
      },
      "outputs": [
        {
          "name": "stdout",
          "output_type": "stream",
          "text": [
            "Question:\n",
            "How to prevent Diabetes ?\n",
            "\n",
            "Answer:\n",
            "The best way to prevent type 2 diabetes in adults is through healthy diet, regular exercise, and weight loss, and stopping smoking.\n",
            "                \n",
            "A healthy diet includes plenty of fruits, vegetables, and whole grains, along with low- or no-fat dairy products and lean meat. Eating a lot of red meat or processed meat raises your risk for heart disease and type 2 diabetes.\n",
            "                \n",
            "Exercise is another way to reduce the risk for type 2 diabetes. Exercise can help you lose weight and lower your blood pressure and blood sugar.\n"
          ]
        }
      ],
      "source": [
        "prompt = template.format(\n",
        "    question=\"How to prevent Diabetes ?\",\n",
        "    answer=\"\",\n",
        ")\n",
        "print(gemma_lm.generate(prompt, max_length=256))"
      ]
    },
    {
      "cell_type": "code",
      "execution_count": null,
      "id": "6d4dce00",
      "metadata": {
        "execution": {
          "iopub.execute_input": "2024-02-24T16:24:52.906470Z",
          "iopub.status.busy": "2024-02-24T16:24:52.905585Z",
          "iopub.status.idle": "2024-02-24T16:25:16.078618Z",
          "shell.execute_reply": "2024-02-24T16:25:16.077633Z"
        },
        "papermill": {
          "duration": 24.569802,
          "end_time": "2024-02-24T16:25:16.081174",
          "exception": false,
          "start_time": "2024-02-24T16:24:51.511372",
          "status": "completed"
        },
        "tags": [],
        "id": "6d4dce00",
        "outputId": "7f041d72-d081-4c3e-d5b0-615ef3734649"
      },
      "outputs": [
        {
          "name": "stderr",
          "output_type": "stream",
          "text": [
            "W0000 00:00:1708791913.175669      27 graph_launch.cc:671] Fallback to op-by-op mode because memset node breaks graph update\n"
          ]
        },
        {
          "name": "stdout",
          "output_type": "stream",
          "text": [
            "Question:\n",
            "What's age range to get Diabetes ?\n",
            "\n",
            "Answer:\n",
            "The average age for a diagnosis of diabetes is age 45, but people of other ages also develop the disease. The risk of developing diabetes increases with age. The American Diabetes Association recommends people over age 50 should have an initial diagnosis of diabetes and be screened for diabetes every 3 to 5 years, depending on risk factors.\n",
            "            \n",
            "The National Diabetes Information Clearinghouse reports the following age-specific incidence and prevalence of diabetes for adults in the United States in 2006:\n",
            "            \n",
            "1.5%\n"
          ]
        }
      ],
      "source": [
        "prompt = template.format(\n",
        "    question=\"What's age range to get Diabetes ?\",\n",
        "    answer=\"\",\n",
        ")\n",
        "print(gemma_lm.generate(prompt, max_length=128))"
      ]
    },
    {
      "cell_type": "code",
      "execution_count": null,
      "id": "330ba9e9",
      "metadata": {
        "execution": {
          "iopub.execute_input": "2024-02-24T16:25:18.818051Z",
          "iopub.status.busy": "2024-02-24T16:25:18.817665Z",
          "iopub.status.idle": "2024-02-24T16:26:15.808462Z",
          "shell.execute_reply": "2024-02-24T16:26:15.807546Z"
        },
        "papermill": {
          "duration": 58.380415,
          "end_time": "2024-02-24T16:26:15.810730",
          "exception": false,
          "start_time": "2024-02-24T16:25:17.430315",
          "status": "completed"
        },
        "tags": [],
        "id": "330ba9e9"
      },
      "outputs": [],
      "source": [
        "gemma_lm.save(\"version_finetuned.keras\")"
      ]
    }
  ],
  "metadata": {
    "kaggle": {
      "accelerator": "gpu",
      "dataSources": [
        {
          "datasetId": 841565,
          "sourceId": 7639866,
          "sourceType": "datasetVersion"
        },
        {
          "modelInstanceId": 5171,
          "sourceId": 11371,
          "sourceType": "modelInstanceVersion"
        },
        {
          "modelInstanceId": 5172,
          "sourceId": 11375,
          "sourceType": "modelInstanceVersion"
        },
        {
          "modelInstanceId": 6216,
          "sourceId": 11384,
          "sourceType": "modelInstanceVersion"
        },
        {
          "isSourceIdPinned": true,
          "modelInstanceId": 8332,
          "sourceId": 11394,
          "sourceType": "modelInstanceVersion"
        },
        {
          "isSourceIdPinned": true,
          "modelInstanceId": 5172,
          "sourceId": 10262,
          "sourceType": "modelInstanceVersion"
        }
      ],
      "dockerImageVersionId": 30648,
      "isGpuEnabled": true,
      "isInternetEnabled": true,
      "language": "python",
      "sourceType": "notebook"
    },
    "kernelspec": {
      "display_name": "Python 3",
      "language": "python",
      "name": "python3"
    },
    "language_info": {
      "codemirror_mode": {
        "name": "ipython",
        "version": 3
      },
      "file_extension": ".py",
      "mimetype": "text/x-python",
      "name": "python",
      "nbconvert_exporter": "python",
      "pygments_lexer": "ipython3",
      "version": "3.10.13"
    },
    "papermill": {
      "default_parameters": {},
      "duration": 3692.749029,
      "end_time": "2024-02-24T16:26:26.707695",
      "environment_variables": {},
      "exception": null,
      "input_path": "__notebook__.ipynb",
      "output_path": "__notebook__.ipynb",
      "parameters": {},
      "start_time": "2024-02-24T15:24:53.958666",
      "version": "2.5.0"
    },
    "colab": {
      "provenance": []
    }
  },
  "nbformat": 4,
  "nbformat_minor": 5
}